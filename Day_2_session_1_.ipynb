{
  "nbformat": 4,
  "nbformat_minor": 0,
  "metadata": {
    "colab": {
      "name": "Day 2 session 1 .ipynb",
      "provenance": [],
      "authorship_tag": "ABX9TyMAyc2K+soE39ssVfu9ccHl",
      "include_colab_link": true
    },
    "kernelspec": {
      "name": "python3",
      "display_name": "Python 3"
    }
  },
  "cells": [
    {
      "cell_type": "markdown",
      "metadata": {
        "id": "view-in-github",
        "colab_type": "text"
      },
      "source": [
        "<a href=\"https://colab.research.google.com/github/anvithapo99/DA-and-ML-workshop/blob/master/Day_2_session_1_.ipynb\" target=\"_parent\"><img src=\"https://colab.research.google.com/assets/colab-badge.svg\" alt=\"Open In Colab\"/></a>"
      ]
    },
    {
      "cell_type": "code",
      "metadata": {
        "id": "2x2tlmAPi3_b",
        "colab_type": "code",
        "outputId": "7762203f-5f3f-4b19-fd29-4bf1b4aeb4eb",
        "colab": {
          "base_uri": "https://localhost:8080/",
          "height": 104
        }
      },
      "source": [
        "#Program to find the largest number in a list.\n",
        "a=[]\n",
        "n=int(input(\"Enter number of elements:\"))\n",
        "for i in range(1,n+1):\n",
        "    b=int(input(\"Enter element:\"))\n",
        "    a.append(b)\n",
        "a.sort()\n",
        "print(\"Largest element is:\",a[n-1])\n",
        "\n",
        "\n"
      ],
      "execution_count": 0,
      "outputs": [
        {
          "output_type": "stream",
          "text": [
            "Enter number of elements:3\n",
            "Enter element:1\n",
            "Enter element:56\n",
            "Enter element:34\n",
            "Largest element is: 56\n"
          ],
          "name": "stdout"
        }
      ]
    },
    {
      "cell_type": "code",
      "metadata": {
        "id": "S2GjZzV2jAoA",
        "colab_type": "code",
        "outputId": "bf6c070a-4676-493e-ffd3-a66c83556dad",
        "colab": {
          "base_uri": "https://localhost:8080/",
          "height": 104
        }
      },
      "source": [
        "#Python Program to put the even and odd elements in a list into two different lists. \n",
        "a=[]\n",
        "n=int(input(\"Enter number of elements:\"))\n",
        "for i in range(1,n+1):\n",
        "    b=int(input(\"Enter element:\"))\n",
        "    a.append(b)\n",
        "even=[]\n",
        "odd=[]\n",
        "for j in a:\n",
        "    if(j%2==0):\n",
        "        even.append(j)\n",
        "    else:\n",
        "        odd.append(j)\n",
        "print(\"The even list\",even)\n",
        "print(\"The odd list\",odd)\n"
      ],
      "execution_count": 0,
      "outputs": [
        {
          "output_type": "stream",
          "text": [
            "Enter number of elements:2\n",
            "Enter element:1\n",
            "Enter element:2\n",
            "The even list [2]\n",
            "The odd list [1]\n"
          ],
          "name": "stdout"
        }
      ]
    },
    {
      "cell_type": "code",
      "metadata": {
        "id": "QQ13BHudjiWB",
        "colab_type": "code",
        "outputId": "051e9458-e138-4269-ee52-54404470d541",
        "colab": {
          "base_uri": "https://localhost:8080/",
          "height": 156
        }
      },
      "source": [
        "#Python Program to merge two lists and sort it.\n",
        "a=[]\n",
        "c=[]\n",
        "n1=int(input(\"Enter number of elements:\"))\n",
        "for i in range(1,n1+1):\n",
        "    b=int(input(\"Enter element:\"))\n",
        "    a.append(b)\n",
        "n2=int(input(\"Enter number of elements:\"))\n",
        "for i in range(1,n2+1):\n",
        "    d=int(input(\"Enter element:\"))\n",
        "    c.append(d)\n",
        "new=a+c\n",
        "new.sort()\n",
        "print(\"Sorted list is:\",new)\n"
      ],
      "execution_count": 0,
      "outputs": [
        {
          "output_type": "stream",
          "text": [
            "Enter number of elements:3\n",
            "Enter element:1\n",
            "Enter element:5\n",
            "Enter element:2\n",
            "Enter number of elements:2\n",
            "Enter element:3\n",
            "Enter element:5\n",
            "Sorted list is: [1, 2, 3, 5, 5]\n"
          ],
          "name": "stdout"
        }
      ]
    },
    {
      "cell_type": "code",
      "metadata": {
        "id": "qzIDjFY9jtF4",
        "colab_type": "code",
        "outputId": "c9e82fca-9eb7-4264-9bd5-4521a3162913",
        "colab": {
          "base_uri": "https://localhost:8080/",
          "height": 35
        }
      },
      "source": [
        "#Python Program to sort the list according to the second element in the sublist.\n",
        "\n",
        "a=[['A',34],['B',21],['C',26],['E',29]]\n",
        "for i in range(0,len(a)):\n",
        "    for j in range(i+1,len(a)):\n",
        "        if(a[i][1]>a[j][1]):\n",
        "            temp=a[j]\n",
        "            a[j]=a[i]\n",
        "            a[i]=temp\n",
        " \n",
        "print(a)\n",
        "\n"
      ],
      "execution_count": 0,
      "outputs": [
        {
          "output_type": "stream",
          "text": [
            "[['B', 21], ['C', 26], ['E', 29], ['A', 34]]\n"
          ],
          "name": "stdout"
        }
      ]
    },
    {
      "cell_type": "code",
      "metadata": {
        "id": "BqwVL1xSj4_k",
        "colab_type": "code",
        "outputId": "5662fcf1-6f78-4fb3-ca7b-6e4be2d4890d",
        "colab": {
          "base_uri": "https://localhost:8080/",
          "height": 87
        }
      },
      "source": [
        "#Python Program to find the second largest number in a list using bubble sort. \n",
        "a=[]\n",
        "n=int(input(\"Enter number of elements:\"))\n",
        "for i in range(1,n+1):\n",
        "    b=int(input(\"Enter element:\"))\n",
        "    a.append(b)\n",
        "for i in range(0,len(a)):\n",
        "    for j in range(0,len(a)-i-1):\n",
        "        if(a[j]>a[j+1]):\n",
        "            temp=a[j]\n",
        "            a[j]=a[j+1]\n",
        "            a[j+1]=temp \n",
        "print('Second largest number is:',a[n-2])\n"
      ],
      "execution_count": 0,
      "outputs": [
        {
          "output_type": "stream",
          "text": [
            "Enter number of elements:2\n",
            "Enter element:1\n",
            "Enter element:7\n",
            "Second largest number is: 1\n"
          ],
          "name": "stdout"
        }
      ]
    },
    {
      "cell_type": "code",
      "metadata": {
        "id": "vwihAuJ8j9iL",
        "colab_type": "code",
        "outputId": "448b2574-9581-4965-9fde-f521d5b41219",
        "colab": {
          "base_uri": "https://localhost:8080/",
          "height": 69
        }
      },
      "source": [
        "#Program to create a list of tuples with the first element as the number and the second element as the square of the number. \n",
        "l_range=int(input(\"Enter the lower range:\"))\n",
        "u_range=int(input(\"Enter the upper range:\"))\n",
        "a=[(x,x**2) for x in range(l_range,u_range+1)]\n",
        "print(a)\n",
        "\n"
      ],
      "execution_count": 0,
      "outputs": [
        {
          "output_type": "stream",
          "text": [
            "Enter the lower range:3\n",
            "Enter the upper range:9\n",
            "[(3, 9), (4, 16), (5, 25), (6, 36), (7, 49), (8, 64), (9, 81)]\n"
          ],
          "name": "stdout"
        }
      ]
    },
    {
      "cell_type": "code",
      "metadata": {
        "id": "6U_OIyNtkGNd",
        "colab_type": "code",
        "outputId": "062e115a-f9b8-47ec-c436-9198af6f79cc",
        "colab": {
          "base_uri": "https://localhost:8080/",
          "height": 52
        }
      },
      "source": [
        "#Python Program to generate random numbers from 1 to 20 and append them to the list.\n",
        "\n",
        "import random\n",
        "a=[]\n",
        "n=int(input(\"Enter number of elements:\"))\n",
        "for j in range(n):\n",
        "    a.append(random.randint(1,20))\n",
        "print('Randomised list is: ',a)\n"
      ],
      "execution_count": 0,
      "outputs": [
        {
          "output_type": "stream",
          "text": [
            "Enter number of elements:3\n",
            "Randomised list is:  [16, 1, 13]\n"
          ],
          "name": "stdout"
        }
      ]
    },
    {
      "cell_type": "code",
      "metadata": {
        "id": "mchAEV6vkPoj",
        "colab_type": "code",
        "outputId": "8b987536-c887-4952-cd3a-26d2c39c1070",
        "colab": {
          "base_uri": "https://localhost:8080/",
          "height": 55
        }
      },
      "source": [
        "#print multiples of 3 upto 200 using a list\n",
        "a=[]\n",
        "for i in range(3,201,3):\n",
        "  a.append(i)\n",
        "print(a)"
      ],
      "execution_count": 0,
      "outputs": [
        {
          "output_type": "stream",
          "text": [
            "[3, 6, 9, 12, 15, 18, 21, 24, 27, 30, 33, 36, 39, 42, 45, 48, 51, 54, 57, 60, 63, 66, 69, 72, 75, 78, 81, 84, 87, 90, 93, 96, 99, 102, 105, 108, 111, 114, 117, 120, 123, 126, 129, 132, 135, 138, 141, 144, 147, 150, 153, 156, 159, 162, 165, 168, 171, 174, 177, 180, 183, 186, 189, 192, 195, 198]\n"
          ],
          "name": "stdout"
        }
      ]
    },
    {
      "cell_type": "code",
      "metadata": {
        "id": "4C5_YJxImCAq",
        "colab_type": "code",
        "outputId": "31310e93-4ac8-413f-ab99-329c1cb5aed5",
        "colab": {
          "base_uri": "https://localhost:8080/",
          "height": 55
        }
      },
      "source": [
        "#2. print the nos only divisable by 5 and 7 between 1000 and 2000 using a list( both inclusive)\n",
        "a=[]\n",
        "c=[]\n",
        "a=list(range(1000,2000))\n",
        "for i in range(0,len(a)):\n",
        "    if(a[i]%5==0 and a[i]%7==0):\n",
        "        c.append(a[i])\n",
        "print(c)"
      ],
      "execution_count": 0,
      "outputs": [
        {
          "output_type": "stream",
          "text": [
            "[1015, 1050, 1085, 1120, 1155, 1190, 1225, 1260, 1295, 1330, 1365, 1400, 1435, 1470, 1505, 1540, 1575, 1610, 1645, 1680, 1715, 1750, 1785, 1820, 1855, 1890, 1925, 1960, 1995]\n"
          ],
          "name": "stdout"
        }
      ]
    },
    {
      "cell_type": "code",
      "metadata": {
        "id": "TUrlFBt1mH62",
        "colab_type": "code",
        "outputId": "8f54e50b-95f8-4190-a513-526c97e847b3",
        "colab": {
          "base_uri": "https://localhost:8080/",
          "height": 121
        }
      },
      "source": [
        "#3. Add the n number of names in a list and print them alphabetically and reverse alphabetically.\n",
        "a=[]\n",
        "n=int(input(\"Enter n: \"))\n",
        "print(\"Enter names:\")\n",
        "for i in range(1,n+1):\n",
        "    b=input()\n",
        "    a.append(b)\n",
        "a.sort()\n",
        "print(\"names in alphabetic order:\"+str(a))\n",
        "a.reverse()\n",
        "print(\"names in reverse alphabetic order:\"+str(a))"
      ],
      "execution_count": 0,
      "outputs": [
        {
          "output_type": "stream",
          "text": [
            "Enter n: 2\n",
            "Enter names:\n",
            "ssss\n",
            "anvitha\n",
            "names in alphabetic order:['anvitha', 'ssss']\n",
            "names in reverse alphabetic order:['ssss', 'anvitha']\n"
          ],
          "name": "stdout"
        }
      ]
    },
    {
      "cell_type": "code",
      "metadata": {
        "id": "8E0kOoIqL1SU",
        "colab_type": "code",
        "colab": {}
      },
      "source": [
        "\n"
      ],
      "execution_count": 0,
      "outputs": []
    },
    {
      "cell_type": "code",
      "metadata": {
        "id": "oYHSbaEqmUJS",
        "colab_type": "code",
        "outputId": "09a7e5ee-eacb-4076-df4c-4b3092c98cec",
        "colab": {
          "base_uri": "https://localhost:8080/",
          "height": 35
        }
      },
      "source": [
        "#Write python program to have a list of words  to sort them from longest to shortest using list of tuples\n",
        " \n",
        "txt = 'but soft what light in yonder window breaks'\n",
        "words = txt.split()\n",
        "t = list()\n",
        "for word in words:\n",
        "   t.append((len(word), word))\n",
        "t.sort(reverse=True)\n",
        "\n",
        "res = list()\n",
        "for length, word in t:\n",
        "    res.append(word)\n",
        "\n",
        "print(res)\n"
      ],
      "execution_count": 0,
      "outputs": [
        {
          "output_type": "stream",
          "text": [
            "['yonder', 'window', 'breaks', 'light', 'what', 'soft', 'but', 'in']\n"
          ],
          "name": "stdout"
        }
      ]
    },
    {
      "cell_type": "code",
      "metadata": {
        "id": "HpXm0ZOisPWU",
        "colab_type": "code",
        "outputId": "3a69f34f-db5a-4612-b06b-bfd480e8bb6a",
        "colab": {
          "base_uri": "https://localhost:8080/",
          "height": 52
        }
      },
      "source": [
        "#Python program that assigns variables\n",
        "\n",
        "# Create packed tuple.\n",
        "pair = (\"dog\", \"cat\")\n",
        "\n",
        "# Unpack tuple.\n",
        "(key, value) = pair\n",
        "\n",
        "# Display unpacked variables.\n",
        "print(key)\n",
        "print(value)\n"
      ],
      "execution_count": 0,
      "outputs": [
        {
          "output_type": "stream",
          "text": [
            "dog\n",
            "cat\n"
          ],
          "name": "stdout"
        }
      ]
    },
    {
      "cell_type": "code",
      "metadata": {
        "id": "2Bo8MqkpsT5J",
        "colab_type": "code",
        "outputId": "fdd76ed3-49d7-4278-d203-885154837db5",
        "colab": {
          "base_uri": "https://localhost:8080/",
          "height": 52
        }
      },
      "source": [
        "#Python program that searches tuples\n",
        "pair = (\"dog\", \"cat\")\n",
        "\n",
        "# Search for a value.\n",
        "if \"cat\" in pair:\n",
        "    print(\"Cat found\")\n",
        "\n",
        "# Search for a value not present.\n",
        "if \"bird\" not in pair:\n",
        "    print(\"Bird not found\")\n"
      ],
      "execution_count": 0,
      "outputs": [
        {
          "output_type": "stream",
          "text": [
            "Cat found\n",
            "Bird not found\n"
          ],
          "name": "stdout"
        }
      ]
    },
    {
      "cell_type": "code",
      "metadata": {
        "id": "LJAsQqq6sXmr",
        "colab_type": "code",
        "colab": {
          "base_uri": "https://localhost:8080/",
          "height": 121
        },
        "outputId": "e5c70ecc-83ed-4ba5-beda-34024ad8d028"
      },
      "source": [
        "#Get  a string and store word by word as elements in a tuple and find the largest word in the  tuple and print it\n",
        "a=[]\n",
        "n= int(input(\"Enter the number of elements in list:\"))\n",
        "for x in range(0,n):\n",
        "    element=input(\"Enter element\" + str(x+1) + \":\")\n",
        "    a.append(element)\n",
        "max1=len(a[0])\n",
        "temp=a[0]\n",
        "for i in a:\n",
        "    if(len(i)>max1):\n",
        "       max1=len(i)\n",
        "       temp=i\n",
        "print(\"The word with the longest length is:\")\n",
        "print(temp)\n"
      ],
      "execution_count": 2,
      "outputs": [
        {
          "output_type": "stream",
          "text": [
            "Enter the number of elements in list:3\n",
            "Enter element1:2\n",
            "Enter element2:3\n",
            "Enter element3:56\n",
            "The word with the longest length is:\n",
            "56\n"
          ],
          "name": "stdout"
        }
      ]
    },
    {
      "cell_type": "code",
      "metadata": {
        "id": "TPlQ0pkwMiwC",
        "colab_type": "code",
        "colab": {
          "base_uri": "https://localhost:8080/",
          "height": 121
        },
        "outputId": "59556386-2ff6-40de-e524-e9e66807d683"
      },
      "source": [
        "#Get rollno and marks (Rollno, mark) as list of tuples for n number of students through keyboard  and print them in marks descending order with rollno.\n",
        "print(sorted([(input(\"Enter rollno: \"), input(\"Enter marks: \")) for i in range(int(input(\"Enter number of students\")))], key=lambda x: x[1],reverse=True))"
      ],
      "execution_count": 3,
      "outputs": [
        {
          "output_type": "stream",
          "text": [
            "Enter number of students2\n",
            "Enter rollno: 21\n",
            "Enter marks: 89\n",
            "Enter rollno: 5\n",
            "Enter marks: 45\n",
            "[('21', '89'), ('5', '45')]\n"
          ],
          "name": "stdout"
        }
      ]
    },
    {
      "cell_type": "code",
      "metadata": {
        "id": "DTyS1D9OMz32",
        "colab_type": "code",
        "colab": {
          "base_uri": "https://localhost:8080/",
          "height": 156
        },
        "outputId": "feb12486-f555-40f7-874d-4bdd0f4a5e2a"
      },
      "source": [
        "#Get name and salary (name, salary) as list of tuples for n number of employees through keyboard  and print them in name alphabetical order with salary\n",
        "print(sorted([(input(\"Enter name: \"), input(\"Enter salary: \")) for i in range(int(input(\"Enter number of employees\")))], key=lambda x: x[0]))"
      ],
      "execution_count": 4,
      "outputs": [
        {
          "output_type": "stream",
          "text": [
            "Enter number of employees3\n",
            "Enter name: ashika\n",
            "Enter salary: 78079\n",
            "Enter name: anvitha\n",
            "Enter salary: 89080\n",
            "Enter name: ashwini\n",
            "Enter salary: 65876\n",
            "[('anvitha', '89080'), ('ashika', '78079'), ('ashwini', '65876')]\n"
          ],
          "name": "stdout"
        }
      ]
    },
    {
      "cell_type": "code",
      "metadata": {
        "id": "nxmYeDurNDKB",
        "colab_type": "code",
        "colab": {}
      },
      "source": [
        ""
      ],
      "execution_count": 0,
      "outputs": []
    }
  ]
}